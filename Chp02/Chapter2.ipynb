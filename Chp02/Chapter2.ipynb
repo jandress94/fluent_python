{
 "cells": [
  {
   "cell_type": "markdown",
   "id": "577f5e2e",
   "metadata": {},
   "source": [
    "`divmod(a, b)` combines the division and modulo operators"
   ]
  },
  {
   "cell_type": "code",
   "execution_count": 1,
   "id": "58d72f08",
   "metadata": {},
   "outputs": [
    {
     "data": {
      "text/plain": [
       "(2, 4)"
      ]
     },
     "execution_count": 1,
     "metadata": {},
     "output_type": "execute_result"
    }
   ],
   "source": [
    "divmod(20, 8)"
   ]
  },
  {
   "cell_type": "markdown",
   "id": "fec7f304",
   "metadata": {},
   "source": [
    "`*args` can be used anywhere on the left-hand side of an assignment"
   ]
  },
  {
   "cell_type": "code",
   "execution_count": 2,
   "id": "5bc4e058",
   "metadata": {},
   "outputs": [
    {
     "name": "stdout",
     "output_type": "stream",
     "text": [
      "[0, 1] 2 3 4\n",
      "0 [1, 2] 3 4\n",
      "0 1 2 [3, 4]\n"
     ]
    }
   ],
   "source": [
    "*head, b, c, d = range(5)\n",
    "print(head, b, c, d)\n",
    "\n",
    "a, *body, c, d = range(5)\n",
    "print(a, body, c, d)\n",
    "\n",
    "a, b, c, *tail = range(5)\n",
    "print(a, b, c, tail)"
   ]
  },
  {
   "cell_type": "markdown",
   "id": "f3222ac5",
   "metadata": {},
   "source": [
    "Tuple unpacking can be nested"
   ]
  },
  {
   "cell_type": "code",
   "execution_count": 3,
   "id": "566b9619",
   "metadata": {},
   "outputs": [
    {
     "name": "stdout",
     "output_type": "stream",
     "text": [
      "Tokyo JP 35.7 139.7\n",
      "Mexico City MX 19.4 -99.1\n",
      "Sao Paulo BR -23.5 -46.6\n"
     ]
    }
   ],
   "source": [
    "metros = [\n",
    "    ('Tokyo', 'JP', (35.7, 139.7)),\n",
    "    ('Mexico City', 'MX', (19.4, -99.1)),\n",
    "    ('Sao Paulo', 'BR', (-23.5, -46.6))\n",
    "]\n",
    "for name, country, (lat, long) in metros:\n",
    "    print(name, country, lat, long)"
   ]
  },
  {
   "cell_type": "markdown",
   "id": "0d7ecb4d",
   "metadata": {},
   "source": [
    "Named Tuples can be used to define a lightweight class with fields"
   ]
  },
  {
   "cell_type": "code",
   "execution_count": 6,
   "id": "1d8dbe35",
   "metadata": {},
   "outputs": [
    {
     "name": "stdout",
     "output_type": "stream",
     "text": [
      "('lat', 'long')\n",
      "('name', 'country', 'coordinates')\n",
      "City(name='Tokyo', country='JP', coordinates=LatLong(lat=35.7, long=139.7))\n",
      "{'name': 'Sao Paulo', 'country': 'BR', 'coordinates': LatLong(lat=-23.5, long=-46.6)}\n"
     ]
    }
   ],
   "source": [
    "from collections import namedtuple\n",
    "\n",
    "LatLong = namedtuple('LatLong', 'lat long')\n",
    "print(LatLong._fields)\n",
    "\n",
    "City = namedtuple('City', ['name', 'country', 'coordinates'])\n",
    "print(City._fields)\n",
    "\n",
    "print(City._make(('Tokyo', 'JP', LatLong(35.7, 139.7))))\n",
    "sao_paulo = City(name='Sao Paulo', country='BR', coordinates=LatLong(-23.5, -46.6))\n",
    "print(sao_paulo._asdict())"
   ]
  },
  {
   "cell_type": "markdown",
   "id": "b8001fb8",
   "metadata": {},
   "source": [
    "Name slice objects for readable indexing into fixed-format iterables"
   ]
  },
  {
   "cell_type": "code",
   "execution_count": 8,
   "id": "1cab75ff",
   "metadata": {},
   "outputs": [
    {
     "name": "stdout",
     "output_type": "stream",
     "text": [
      "    $17.50   Pimoroni PiBrella                 \n",
      "     $4.95   6mm Tactile Switch x20            \n",
      "    $28.00   Panavise Jr. - PV-201             \n",
      "    $34.95   PiTFT Mini Kit 320x240            \n",
      " \n"
     ]
    }
   ],
   "source": [
    "invoice = \"\"\"\n",
    "0.....6.................................40........52...55........\n",
    "1909  Pimoroni PiBrella                     $17.50    3    $52.50\n",
    "1489  6mm Tactile Switch x20                 $4.95    2     $9.90\n",
    "1510  Panavise Jr. - PV-201                 $28.00    1    $28.00\n",
    "1601  PiTFT Mini Kit 320x240                $34.95    1    $34.95\n",
    "\"\"\"\n",
    "SKU = slice(0, 6)\n",
    "DESCRIPTION = slice(6, 40)\n",
    "UNIT_PRICE = slice(40, 52)\n",
    "QUANTITY = slice(52, 55)\n",
    "ITEM_TOTAl = slice(55, None)\n",
    "line_items = invoice.split('\\n')[2:]\n",
    "for item in line_items:\n",
    "    print(item[UNIT_PRICE], item[DESCRIPTION])"
   ]
  },
  {
   "cell_type": "markdown",
   "id": "229d1b88",
   "metadata": {},
   "source": [
    "`bisect` implements binary sort and methods to deal w/ sorted lists"
   ]
  },
  {
   "cell_type": "code",
   "execution_count": 12,
   "id": "b7332542",
   "metadata": {},
   "outputs": [
    {
     "name": "stdout",
     "output_type": "stream",
     "text": [
      "Using <built-in function bisect_left>, value 0 should go in index 0\n",
      "Using <built-in function bisect_left>, value 1 should go in index 0\n",
      "Using <built-in function bisect_left>, value 2 should go in index 1\n",
      "Using <built-in function bisect_left>, value 10 should go in index 3\n",
      "Using <built-in function bisect_left>, value 31 should go in index 4\n",
      "Using <built-in function bisect_right>, value 0 should go in index 0\n",
      "Using <built-in function bisect_right>, value 1 should go in index 1\n",
      "Using <built-in function bisect_right>, value 2 should go in index 1\n",
      "Using <built-in function bisect_right>, value 10 should go in index 3\n",
      "Using <built-in function bisect_right>, value 31 should go in index 4\n"
     ]
    }
   ],
   "source": [
    "import bisect\n",
    "\n",
    "for bisect_fn in [bisect.bisect_left, bisect.bisect_right]:\n",
    "    for needle in [0, 1, 2, 10, 31]:\n",
    "        position = bisect_fn([1, 4, 9, 30], needle)\n",
    "        print(f'Using {bisect_fn}, value {needle} should go in index {position}')"
   ]
  },
  {
   "cell_type": "markdown",
   "id": "3ac452c8",
   "metadata": {},
   "source": [
    "Using binary search to map scores to a letter grade"
   ]
  },
  {
   "cell_type": "code",
   "execution_count": 13,
   "id": "afee267d",
   "metadata": {},
   "outputs": [
    {
     "data": {
      "text/plain": [
       "['F', 'A', 'C', 'C', 'B', 'A', 'A']"
      ]
     },
     "execution_count": 13,
     "metadata": {},
     "output_type": "execute_result"
    }
   ],
   "source": [
    "def grade(score, breakpoints=[60, 70, 80, 90], grades='FDCBA'):\n",
    "    i = bisect.bisect(breakpoints, score)\n",
    "    return grades[i]\n",
    "\n",
    "[grade(score) for score in [33, 99, 77, 70, 89, 90, 100]]"
   ]
  },
  {
   "cell_type": "markdown",
   "id": "bf97d7b2",
   "metadata": {},
   "source": [
    "`bisect.insort` inserts values and keeps a list sorted"
   ]
  },
  {
   "cell_type": "code",
   "execution_count": 16,
   "id": "598402b4",
   "metadata": {},
   "outputs": [
    {
     "name": "stdout",
     "output_type": "stream",
     "text": [
      "10 -> [10]\n",
      "0 -> [0, 10]\n",
      "6 -> [0, 6, 10]\n",
      "8 -> [0, 6, 8, 10]\n",
      "7 -> [0, 6, 7, 8, 10]\n",
      "2 -> [0, 2, 6, 7, 8, 10]\n",
      "10 -> [0, 2, 6, 7, 8, 10, 10]\n"
     ]
    }
   ],
   "source": [
    "import random\n",
    "\n",
    "SIZE = 7\n",
    "\n",
    "random.seed(1729)\n",
    "\n",
    "my_list = []\n",
    "for i in range(SIZE):\n",
    "    new_item = random.randrange(SIZE*2)\n",
    "    bisect.insort(my_list, new_item)\n",
    "    print(f'{new_item} -> {my_list}')"
   ]
  }
 ],
 "metadata": {
  "kernelspec": {
   "display_name": "Python 3 (ipykernel)",
   "language": "python",
   "name": "python3"
  },
  "language_info": {
   "codemirror_mode": {
    "name": "ipython",
    "version": 3
   },
   "file_extension": ".py",
   "mimetype": "text/x-python",
   "name": "python",
   "nbconvert_exporter": "python",
   "pygments_lexer": "ipython3",
   "version": "3.8.12"
  }
 },
 "nbformat": 4,
 "nbformat_minor": 5
}
