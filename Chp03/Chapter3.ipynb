{
 "cells": [
  {
   "cell_type": "markdown",
   "id": "6500a926",
   "metadata": {},
   "source": [
    "`dict.setdefault()` is useful for setting/updating a mutable value"
   ]
  },
  {
   "cell_type": "code",
   "execution_count": 2,
   "id": "22a6415a",
   "metadata": {},
   "outputs": [
    {
     "name": "stdout",
     "output_type": "stream",
     "text": [
      "{'n': [0], 'o': [1, 5, 6], 't': [2], 'e': [3], 'b': [4], 'k': [7]}\n",
      "{'n': [0], 'o': [1, 5, 6], 't': [2], 'e': [3], 'b': [4], 'k': [7]}\n",
      "{'n': [0], 'o': [1, 5, 6], 't': [2], 'e': [3], 'b': [4], 'k': [7]}\n"
     ]
    }
   ],
   "source": [
    "def character_locs_get(s):\n",
    "    char_locs = {}\n",
    "    for i, c in enumerate(s):\n",
    "        # requires 2 lookups the `c` entry\n",
    "        locs = char_locs.get(c, [])\n",
    "        locs.append(i)\n",
    "        char_locs[c] = locs\n",
    "    return char_locs\n",
    "\n",
    "def character_locs_if(s):\n",
    "    char_locs = {}\n",
    "    for i, c in enumerate(s):\n",
    "        # requires 2 lookups for `c` entry if it's already in the dict,\n",
    "        # requires 3 lookups for `c` entry when it's not in the dict\n",
    "        if c not in char_locs:\n",
    "            char_locs[c] = []\n",
    "        char_locs[c].append(i)\n",
    "    return char_locs\n",
    "\n",
    "def character_locs_setdefault(s):\n",
    "    char_locs = {}\n",
    "    for i, c in enumerate(s):\n",
    "        # requires a single lookup for `c` entry\n",
    "        char_locs.setdefault(c, []).append(i)\n",
    "    return char_locs\n",
    "\n",
    "print(character_locs_get('notebook'))\n",
    "print(character_locs_if('notebook'))\n",
    "print(character_locs_setdefault('notebook'))"
   ]
  },
  {
   "cell_type": "markdown",
   "id": "46a7cda8",
   "metadata": {},
   "source": [
    "`MappingProxyType` is a read-only view of a dictionary"
   ]
  },
  {
   "cell_type": "code",
   "execution_count": 5,
   "id": "ebefc378",
   "metadata": {},
   "outputs": [
    {
     "name": "stdout",
     "output_type": "stream",
     "text": [
      "{1: 'a'}\n",
      "a\n",
      "'mappingproxy' object does not support item assignment\n",
      "{1: 'a', 2: 'c'}\n",
      "c\n"
     ]
    }
   ],
   "source": [
    "from types import MappingProxyType\n",
    "\n",
    "d = {1: 'a'}\n",
    "d_proxy = MappingProxyType(d)\n",
    "print(d_proxy)\n",
    "print(d_proxy[1])\n",
    "\n",
    "try:\n",
    "    d_proxy[2] = 'b'\n",
    "except TypeError as te:\n",
    "    print(te)\n",
    "    \n",
    "d[2] = 'c'\n",
    "print(d_proxy)\n",
    "print(d_proxy[2])"
   ]
  }
 ],
 "metadata": {
  "kernelspec": {
   "display_name": "Python 3 (ipykernel)",
   "language": "python",
   "name": "python3"
  },
  "language_info": {
   "codemirror_mode": {
    "name": "ipython",
    "version": 3
   },
   "file_extension": ".py",
   "mimetype": "text/x-python",
   "name": "python",
   "nbconvert_exporter": "python",
   "pygments_lexer": "ipython3",
   "version": "3.8.12"
  }
 },
 "nbformat": 4,
 "nbformat_minor": 5
}
